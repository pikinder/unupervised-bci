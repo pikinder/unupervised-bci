{
 "cells": [
  {
   "cell_type": "markdown",
   "metadata": {},
   "source": [
    "# AMUSE batch experiment\n",
    "In this notebook the following steps are executed\n",
    "* The auditory AMUSE dataset is loaded for a single subject.\n",
    "* This calibration data is used to train a supervised LDA classifier with automatic (ledoit-wolf) regularisation. This classifier serves as a baseline\n",
    "* _n_iterations number of EM updates are performed on the EM based unsupervised model. This model learns without labels on the online data.\n",
    "### Notes\n",
    "* Make sure that the data is downloaded and pre-processed before running this script.\n",
    "* Possible subjects are: VPfce, VPkw, VPfaz, VPfcj, VPfcg, VPfar, VPfaw, VPfax, VPfcc, VPfcm, VPfas, VPfch, VPfcd, VPfca, VPfcb, VPfau, VPfci, VPfav, VPfat, VPfcl, VPfck"
   ]
  },
  {
   "cell_type": "code",
   "execution_count": 1,
   "metadata": {
    "collapsed": true
   },
   "outputs": [],
   "source": [
    "import numpy as np\n",
    "import config\n",
    "from tools.fileio import load\n",
    "from decoder.erp_decoder import UnsupervisedEM, LDADecoder\n",
    "from sklearn.metrics import roc_auc_score\n",
    "\n",
    "subject = 'VPkw'\n",
    "_n_iterations = 10\n",
    "_n_commands = 6 # Keep this at 6!"
   ]
  },
  {
   "cell_type": "markdown",
   "metadata": {},
   "source": [
    "## Load the data"
   ]
  },
  {
   "cell_type": "code",
   "execution_count": 2,
   "metadata": {
    "collapsed": true
   },
   "outputs": [],
   "source": [
    "data_calib, data_test = load('%s/amuse_%s.pkl'%(config._processed,subject))\n",
    "_n_dim = np.prod(data_test.eeg.shape[2:])\n",
    "x_train, y_train = data_calib.get_data_as_xy()\n",
    "x, y = data_test.get_data_as_xy()\n",
    "truth = data_test.target_stimulus"
   ]
  },
  {
   "cell_type": "markdown",
   "metadata": {},
   "source": [
    "## Train and evaluate supervised baseline"
   ]
  },
  {
   "cell_type": "code",
   "execution_count": null,
   "metadata": {
    "collapsed": false
   },
   "outputs": [
    {
     "name": "stderr",
     "output_type": "stream",
     "text": [
      "/Users/pikinder/anaconda/lib/python2.7/site-packages/scipy/linalg/basic.py:1018: RuntimeWarning: internal gelsd driver lwork query error, required iwork dimension not returned. This is likely the result of LAPACK bug 0038, fixed in LAPACK 3.2.2 (released July 21, 2010). Falling back to 'gelss' driver.\n",
      "  warnings.warn(mesg, RuntimeWarning)\n"
     ]
    },
    {
     "name": "stdout",
     "output_type": "stream",
     "text": [
      "LDA Accuracy: 96.97\n",
      "LDA single stimulus AUC: 0.81\n"
     ]
    }
   ],
   "source": [
    "lda_decoder = LDADecoder(_n_commands,x_train,y_train)\n",
    "lda_decoder.add_data(data_test)\n",
    "lda_auc = roc_auc_score(y, lda_decoder.apply_single_stimulus(x))\n",
    "lda_acc = 100.0*np.mean(lda_decoder.predict_all_trials()==truth)\n",
    "print('LDA Accuracy: %.2f'%lda_acc)\n",
    "print('LDA single stimulus AUC: %.2f'%lda_auc)"
   ]
  },
  {
   "cell_type": "markdown",
   "metadata": {},
   "source": [
    "## Train an unsupervised model\n",
    "This model receives the entire online data at once and performs updates on this. It is *not* an online experiment.\n",
    "Please note that the model is randomly initialised and because of this it does not always converge to a good solution. There are however tricks available to mitigate this. "
   ]
  },
  {
   "cell_type": "code",
   "execution_count": null,
   "metadata": {
    "collapsed": false
   },
   "outputs": [
    {
     "name": "stdout",
     "output_type": "stream",
     "text": [
      "data is put into the decoder...\n",
      "it: 0\n",
      "EM:  symbol acc: 13.64, auc: 0.51,\n",
      "LDA: symbol acc: 96.97, auc: 0.81\n",
      "it: 1\n",
      "EM:  symbol acc: 15.15, auc: 0.51,\n",
      "LDA: symbol acc: 96.97, auc: 0.81\n",
      "it: 2\n",
      "EM:  symbol acc: 18.18, auc: 0.52,\n",
      "LDA: symbol acc: 96.97, auc: 0.81\n",
      "it: 3\n",
      "EM:  symbol acc: 24.24, auc: 0.54,\n",
      "LDA: symbol acc: 96.97, auc: 0.81\n",
      "it: 4\n",
      "EM:  symbol acc: 34.85, auc: 0.58,\n",
      "LDA: symbol acc: 96.97, auc: 0.81\n",
      "it: 5\n",
      "EM:  symbol acc: 48.48, auc: 0.63,\n",
      "LDA: symbol acc: 96.97, auc: 0.81\n",
      "it: 6\n",
      "EM:  symbol acc: 71.21, auc: 0.70,\n",
      "LDA: symbol acc: 96.97, auc: 0.81\n",
      "it: 7\n",
      "EM:  symbol acc: 95.45, auc: 0.77,\n",
      "LDA: symbol acc: 96.97, auc: 0.81\n",
      "it: 8\n",
      "EM:  symbol acc: 96.97, auc: 0.79,\n",
      "LDA: symbol acc: 96.97, auc: 0.81\n",
      "it: 9\n",
      "EM:  symbol acc: 96.97, auc: 0.79,\n",
      "LDA: symbol acc: 96.97, auc: 0.81\n"
     ]
    }
   ],
   "source": [
    "em_decoder = UnsupervisedEM(_n_dim,_n_commands)\n",
    "em_decoder.add_data(data_test)\n",
    "print ('data is put into the decoder...')\n",
    "\n",
    "for i in range(_n_iterations):\n",
    "    em_decoder.update_decoder()\n",
    "    pred = em_decoder.predict_all_trials()\n",
    "    print \"it: %d\\nEM:  symbol acc: %.2f, auc: %.2f,\\nLDA: symbol acc: %.2f, auc: %.2f\"%(i, 100.0*np.mean(pred==truth),roc_auc_score(y, em_decoder.apply_single_stimulus(x)),lda_acc,lda_auc)"
   ]
  },
  {
   "cell_type": "code",
   "execution_count": null,
   "metadata": {
    "collapsed": true
   },
   "outputs": [],
   "source": []
  },
  {
   "cell_type": "code",
   "execution_count": null,
   "metadata": {
    "collapsed": true
   },
   "outputs": [],
   "source": []
  }
 ],
 "metadata": {
  "anaconda-cloud": {},
  "kernelspec": {
   "display_name": "Python [conda root]",
   "language": "python",
   "name": "conda-root-py"
  },
  "language_info": {
   "codemirror_mode": {
    "name": "ipython",
    "version": 2
   },
   "file_extension": ".py",
   "mimetype": "text/x-python",
   "name": "python",
   "nbconvert_exporter": "python",
   "pygments_lexer": "ipython2",
   "version": "2.7.12"
  }
 },
 "nbformat": 4,
 "nbformat_minor": 1
}
